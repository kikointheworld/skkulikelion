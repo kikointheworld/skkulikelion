{
 "cells": [
  {
   "cell_type": "code",
   "execution_count": 1,
   "id": "808069b7",
   "metadata": {},
   "outputs": [],
   "source": [
    "import random"
   ]
  },
  {
   "cell_type": "code",
   "execution_count": 2,
   "id": "15d8f245",
   "metadata": {},
   "outputs": [
    {
     "name": "stdout",
     "output_type": "stream",
     "text": [
      "된장찌개\n"
     ]
    }
   ],
   "source": [
    "print(random.choice([\"된장찌개\", \"피자\", \"제육볶음\"]))"
   ]
  },
  {
   "cell_type": "code",
   "execution_count": null,
   "id": "57c0bf32",
   "metadata": {},
   "outputs": [],
   "source": []
  }
 ],
 "metadata": {
  "kernelspec": {
   "display_name": "Python 3 (ipykernel)",
   "language": "python",
   "name": "python3"
  },
  "language_info": {
   "codemirror_mode": {
    "name": "ipython",
    "version": 3
   },
   "file_extension": ".py",
   "mimetype": "text/x-python",
   "name": "python",
   "nbconvert_exporter": "python",
   "pygments_lexer": "ipython3",
   "version": "3.9.10"
  }
 },
 "nbformat": 4,
 "nbformat_minor": 5
}
